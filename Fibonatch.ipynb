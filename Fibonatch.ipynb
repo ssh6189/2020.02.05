{
 "cells": [
  {
   "cell_type": "code",
   "execution_count": 1,
   "metadata": {
    "ExecuteTime": {
     "end_time": "2020-02-05T01:38:41.317916Z",
     "start_time": "2020-02-05T01:38:41.313928Z"
    }
   },
   "outputs": [],
   "source": [
    "#45번째 피보나치 수열을 구하는데, 리스트 방식은 2.8초, 재귀함수 방식은 3분 36초 == 216초가 걸린다.\n",
    "def fibonatch(n):\n",
    "    a = []\n",
    "\n",
    "    for i in range(n):\n",
    "        if i < 2:\n",
    "            a.append(1)\n",
    "        else:\n",
    "            a.append(a[i-1] + a[i-2])\n",
    "        \n",
    "    return a[n-1]"
   ]
  },
  {
   "cell_type": "code",
   "execution_count": 2,
   "metadata": {
    "ExecuteTime": {
     "end_time": "2020-02-05T01:38:43.422622Z",
     "start_time": "2020-02-05T01:38:41.318914Z"
    }
   },
   "outputs": [
    {
     "name": "stdout",
     "output_type": "stream",
     "text": [
      "수를 입력하시오.45\n",
      "1134903170\n"
     ]
    }
   ],
   "source": [
    "n = int(input(\"수를 입력하시오.\"))\n",
    "print(fibonatch(n))"
   ]
  },
  {
   "cell_type": "code",
   "execution_count": 3,
   "metadata": {
    "ExecuteTime": {
     "end_time": "2020-02-05T01:38:43.443339Z",
     "start_time": "2020-02-05T01:38:43.424616Z"
    }
   },
   "outputs": [],
   "source": [
    "#재귀 함수 사용\n",
    "def fibo(n):\n",
    "    if n < 3:\n",
    "        return 1\n",
    "    else :\n",
    "        return fibo(n-1) + fibo(n-2) "
   ]
  },
  {
   "cell_type": "code",
   "execution_count": 4,
   "metadata": {
    "ExecuteTime": {
     "end_time": "2020-02-05T01:42:17.986866Z",
     "start_time": "2020-02-05T01:38:43.443339Z"
    }
   },
   "outputs": [
    {
     "name": "stdout",
     "output_type": "stream",
     "text": [
      "수를 입력하시오.45\n",
      "1134903170\n"
     ]
    }
   ],
   "source": [
    "n = int(input(\"수를 입력하시오.\"))\n",
    "print(fibo(n))"
   ]
  },
  {
   "cell_type": "code",
   "execution_count": 5,
   "metadata": {
    "ExecuteTime": {
     "end_time": "2020-02-05T01:42:17.991679Z",
     "start_time": "2020-02-05T01:42:17.987689Z"
    }
   },
   "outputs": [],
   "source": [
    "#딕셔너리에서 [\"key\"]값이 없으면, error가 나지만, get(\"key\")로 하면, Nan값이 나온다.\n",
    "#딕셔너리 3분 28초, 208초가 나온다.\n",
    "pre = {1:1, 2:1}\n",
    "\n",
    "def fibo2(n) :\n",
    "    v = pre.get(n)\n",
    "    if v!= None:\n",
    "        return v\n",
    "    else:\n",
    "        sum = fibo(n-2) + fibo(n-1)\n",
    "        pre[n] = sum\n",
    "        return sum"
   ]
  },
  {
   "cell_type": "code",
   "execution_count": 6,
   "metadata": {
    "ExecuteTime": {
     "end_time": "2020-02-05T01:45:45.564478Z",
     "start_time": "2020-02-05T01:42:17.992767Z"
    }
   },
   "outputs": [
    {
     "name": "stdout",
     "output_type": "stream",
     "text": [
      "1134903170\n"
     ]
    }
   ],
   "source": [
    "print(fibo2(45))"
   ]
  }
 ],
 "metadata": {
  "kernelspec": {
   "display_name": "Python 3",
   "language": "python",
   "name": "python3"
  },
  "language_info": {
   "codemirror_mode": {
    "name": "ipython",
    "version": 3
   },
   "file_extension": ".py",
   "mimetype": "text/x-python",
   "name": "python",
   "nbconvert_exporter": "python",
   "pygments_lexer": "ipython3",
   "version": "3.6.10"
  }
 },
 "nbformat": 4,
 "nbformat_minor": 4
}
